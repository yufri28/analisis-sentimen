{
 "cells": [
  {
   "cell_type": "code",
   "execution_count": null,
   "metadata": {},
   "outputs": [],
   "source": []
  },
  {
   "cell_type": "code",
   "execution_count": 1,
   "metadata": {},
   "outputs": [
    {
     "name": "stdout",
     "output_type": "stream",
     "text": [
      "  (0, 7)\t0.447213595499958\n",
      "  (0, 6)\t0.447213595499958\n",
      "  (0, 5)\t0.447213595499958\n",
      "  (0, 0)\t0.447213595499958\n",
      "  (0, 3)\t0.447213595499958\n",
      "  (1, 1)\t0.5773502691896257\n",
      "  (1, 2)\t0.5773502691896257\n",
      "  (1, 4)\t0.5773502691896257\n"
     ]
    }
   ],
   "source": [
    "from sklearn.feature_extraction.text import TfidfVectorizer\n",
    "\n",
    "# Membuat instance dari TfidfVectorizer\n",
    "tfidf = TfidfVectorizer()\n",
    "\n",
    "# Melakukan transformasi tf-idf pada data latih\n",
    "X_train_tfidf = tfidf.fit_transform([\"kemudi baik sopan tepat waktu\",\"layan buruk bantu_neg\"])\n",
    "\n",
    "print(X_train_tfidf)"
   ]
  }
 ],
 "metadata": {
  "kernelspec": {
   "display_name": "Python 3",
   "language": "python",
   "name": "python3"
  },
  "language_info": {
   "codemirror_mode": {
    "name": "ipython",
    "version": 3
   },
   "file_extension": ".py",
   "mimetype": "text/x-python",
   "name": "python",
   "nbconvert_exporter": "python",
   "pygments_lexer": "ipython3",
   "version": "3.10.6"
  },
  "orig_nbformat": 4
 },
 "nbformat": 4,
 "nbformat_minor": 2
}
